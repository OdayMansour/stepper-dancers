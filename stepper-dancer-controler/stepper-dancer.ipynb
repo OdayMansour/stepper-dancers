{
 "cells": [
  {
   "cell_type": "markdown",
   "metadata": {},
   "source": [
    "# Stepper dancer"
   ]
  },
  {
   "cell_type": "code",
   "execution_count": 1,
   "metadata": {},
   "outputs": [],
   "source": [
    "import serial\n",
    "import time\n",
    "import ctypes\n",
    "import perlin_noise\n",
    "import datetime\n",
    "import random\n",
    "\n",
    "import pyaudio\n",
    "import math"
   ]
  },
  {
   "cell_type": "code",
   "execution_count": 40,
   "metadata": {},
   "outputs": [],
   "source": [
    "# Set up serial communications\n",
    "port = \"/dev/cu.usbserial-1420\"\n",
    "baud = 115200\n",
    "ser = serial.Serial(port, baud)\n",
    "time.sleep(2)"
   ]
  },
  {
   "cell_type": "code",
   "execution_count": 41,
   "metadata": {},
   "outputs": [],
   "source": [
    "# Create an instance of PyAudio\n",
    "audio = pyaudio.PyAudio()\n",
    "\n",
    "# Open a stream to capture audio from the microphone\n",
    "stream = audio.open(format=pyaudio.paInt16,\n",
    "                    channels=1,\n",
    "                    rate=44100,\n",
    "                    input=True,\n",
    "                    frames_per_buffer=1024)"
   ]
  },
  {
   "cell_type": "code",
   "execution_count": 4,
   "metadata": {},
   "outputs": [],
   "source": [
    "def serialize(motor, acceleration, speed, revolutions):\n",
    "    motor_b = int(motor).to_bytes()\n",
    "    acceleration_b = acceleration.to_bytes(2, signed = True)\n",
    "    speed_b = speed.to_bytes(2, signed = True)\n",
    "    revolutions_b = int(revolutions * 16.0 * 200.0).to_bytes(2, signed = True)\n",
    "    print(( motor_b + acceleration_b + speed_b + revolutions_b).hex(' ', 2) )\n",
    "    return motor_b + acceleration_b + speed_b + revolutions_b\n",
    "\n",
    "def serialize_float(motor, acceleration, speed, revolutions):\n",
    "    acceleration_32 = ctypes.c_float(acceleration)\n",
    "    speed_32 = ctypes.c_float(speed)\n",
    "    revolutions_32 = ctypes.c_float(revolutions)\n",
    "    \n",
    "    motor_b = int(motor).to_bytes()\n",
    "    acceleration_b = bytes(acceleration_32)\n",
    "    speed_b = bytes(speed_32)\n",
    "    revolutions_b = bytes(revolutions_32)\n",
    "    return (motor_b + acceleration_b + speed_b + revolutions_b)\n",
    "\n",
    "def get_rms(frames):\n",
    "    count = len(frames)/2.0\n",
    "    sum_squares = 0.0\n",
    "    sum_samples = 0.0\n",
    "\n",
    "    for i in range(0, len(frames), 2):\n",
    "        # Unpack the frame (2 bytes) into a signed integer\n",
    "        n = int.from_bytes(frames[i:i+2], byteorder='little', signed=True)\n",
    "        sum_squares += n ** 2\n",
    "        sum_samples += n\n",
    "\n",
    "    rms = math.sqrt(sum_squares / count)\n",
    "    dc = sum_samples / count\n",
    "    return rms\n",
    "    return (rms, dc)"
   ]
  },
  {
   "cell_type": "code",
   "execution_count": null,
   "metadata": {},
   "outputs": [],
   "source": [
    "acceleration = 1000.0\n",
    "moving_average = 0.0\n",
    "moving_average_num = 10.0\n",
    "\n",
    "while True:\n",
    "    # Read audio data from the stream\n",
    "    frames = b''\n",
    "    for i in range(4):\n",
    "        data = stream.read(1024, exception_on_overflow = False)\n",
    "        frames += data\n",
    "\n",
    "    # print(\"Finished recording.\")\n",
    "    rms_value = get_rms(frames)\n",
    "    moving_average = (moving_average * moving_average_num + rms_value) / (moving_average_num + 1)\n",
    "    # print(f\"values: {rms_value}\")\n",
    "\n",
    "    myspeed = moving_average / 10000.0\n",
    "    print(myspeed, end='\\r')\n",
    "    ser.write( serialize_float(motor = 0, acceleration = acceleration, speed = myspeed, revolutions = 1 ) )\n",
    "    # print(ser.read_all(), end=\"\")\n",
    "    ser.write( serialize_float(motor = 1, acceleration = acceleration, speed = myspeed, revolutions = 1 ) )\n",
    "    # print(ser.read_all(), end=\"\")\n",
    "    ser.write( serialize_float(motor = 2, acceleration = acceleration, speed = myspeed, revolutions = 1 ) )\n",
    "    # print(ser.read_all(), end=\"\")\n",
    "    ser.write( serialize_float(motor = 3, acceleration = acceleration, speed = myspeed, revolutions = 1 ) )\n",
    "    # print(ser.read_all())\n"
   ]
  },
  {
   "cell_type": "code",
   "execution_count": 43,
   "metadata": {},
   "outputs": [],
   "source": [
    "stream.stop_stream()\n",
    "stream.close()\n",
    "audio.terminate()"
   ]
  }
 ],
 "metadata": {
  "kernelspec": {
   "display_name": "venv",
   "language": "python",
   "name": "python3"
  },
  "language_info": {
   "codemirror_mode": {
    "name": "ipython",
    "version": 3
   },
   "file_extension": ".py",
   "mimetype": "text/x-python",
   "name": "python",
   "nbconvert_exporter": "python",
   "pygments_lexer": "ipython3",
   "version": "3.12.3"
  }
 },
 "nbformat": 4,
 "nbformat_minor": 2
}
